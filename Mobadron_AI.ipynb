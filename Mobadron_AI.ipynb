{
  "cells": [
    {
      "cell_type": "markdown",
      "metadata": {
        "id": "view-in-github",
        "colab_type": "text"
      },
      "source": [
        "<a href=\"https://colab.research.google.com/github/3hoodaas/Car.github.io/blob/main/Mobadron_AI.ipynb\" target=\"_parent\"><img src=\"https://colab.research.google.com/assets/colab-badge.svg\" alt=\"Open In Colab\"/></a>"
      ]
    },
    {
      "cell_type": "markdown",
      "source": [
        "تثبيت المكتبات المطلوبة"
      ],
      "metadata": {
        "id": "45tlf3bHN0s0"
      }
    },
    {
      "cell_type": "code",
      "source": [
        "!pip install pandas scikit-learn"
      ],
      "metadata": {
        "colab": {
          "base_uri": "https://localhost:8080/"
        },
        "id": "0b3U7tAdHuiN",
        "outputId": "f57e5dce-b8d3-4dce-d21b-c7cfac0a2899"
      },
      "execution_count": 4,
      "outputs": [
        {
          "output_type": "stream",
          "name": "stdout",
          "text": [
            "Requirement already satisfied: pandas in /usr/local/lib/python3.10/dist-packages (2.2.2)\n",
            "Requirement already satisfied: scikit-learn in /usr/local/lib/python3.10/dist-packages (1.6.0)\n",
            "Requirement already satisfied: numpy>=1.22.4 in /usr/local/lib/python3.10/dist-packages (from pandas) (1.26.4)\n",
            "Requirement already satisfied: python-dateutil>=2.8.2 in /usr/local/lib/python3.10/dist-packages (from pandas) (2.8.2)\n",
            "Requirement already satisfied: pytz>=2020.1 in /usr/local/lib/python3.10/dist-packages (from pandas) (2024.2)\n",
            "Requirement already satisfied: tzdata>=2022.7 in /usr/local/lib/python3.10/dist-packages (from pandas) (2024.2)\n",
            "Requirement already satisfied: scipy>=1.6.0 in /usr/local/lib/python3.10/dist-packages (from scikit-learn) (1.13.1)\n",
            "Requirement already satisfied: joblib>=1.2.0 in /usr/local/lib/python3.10/dist-packages (from scikit-learn) (1.4.2)\n",
            "Requirement already satisfied: threadpoolctl>=3.1.0 in /usr/local/lib/python3.10/dist-packages (from scikit-learn) (3.5.0)\n",
            "Requirement already satisfied: six>=1.5 in /usr/local/lib/python3.10/dist-packages (from python-dateutil>=2.8.2->pandas) (1.17.0)\n"
          ]
        }
      ]
    },
    {
      "cell_type": "markdown",
      "source": [
        "نظام التوصيات (Recommendation System)"
      ],
      "metadata": {
        "id": "GrXaA1xvN655"
      }
    },
    {
      "cell_type": "code",
      "source": [
        "#تجهيز البيانات\n",
        "\n",
        "import pandas as pd\n",
        "\n",
        "# بيانات افتراضية للمبادرات\n",
        "import pandas as pd\n",
        "\n",
        "# Load the provided Excel file to inspect its structure and content\n",
        "file_path = '/content/generated_500_initiatives.xlsx'\n",
        "data = pd.ExcelFile(file_path)\n",
        "\n",
        "# Display sheet names to understand the structure of the file\n",
        "data.sheet_names\n"
      ],
      "metadata": {
        "colab": {
          "base_uri": "https://localhost:8080/"
        },
        "id": "SorG7eI8H7yb",
        "outputId": "28ca61d6-f499-4892-8acd-88ba3530a947"
      },
      "execution_count": 5,
      "outputs": [
        {
          "output_type": "execute_result",
          "data": {
            "text/plain": [
              "['Sheet1']"
            ]
          },
          "metadata": {},
          "execution_count": 5
        }
      ]
    },
    {
      "cell_type": "code",
      "source": [
        "# Load the data from the first sheet to explore its contents\n",
        "initiatives_data = data.parse('Sheet1')\n",
        "\n",
        "# Display the first few rows of the dataset to understand its structure\n",
        "initiatives_data.head()\n"
      ],
      "metadata": {
        "colab": {
          "base_uri": "https://localhost:8080/",
          "height": 206
        },
        "id": "yhv9Pe0BT7t_",
        "outputId": "17b41e32-f08a-4189-ad16-9daa05258574"
      },
      "execution_count": 6,
      "outputs": [
        {
          "output_type": "execute_result",
          "data": {
            "text/plain": [
              "  Initiative Name                             Goals Target Groups  \\\n",
              "0    مبادرة رقم 1  تحقيق هدف تحسين في المجال رقم 16     المواطنين   \n",
              "1    مبادرة رقم 2   تحقيق هدف تحسين في المجال رقم 9     المواطنين   \n",
              "2    مبادرة رقم 3  تحقيق هدف تحسين في المجال رقم 13        الطلاب   \n",
              "3    مبادرة رقم 4  تحقيق هدف تحسين في المجال رقم 20        الطلاب   \n",
              "4    مبادرة رقم 5   تحقيق هدف تحسين في المجال رقم 5     المواطنين   \n",
              "\n",
              "                Expected Impact  Number of Beneficiaries Importance  \n",
              "0  تأثير إيجابي على 1947 مستفيد                    49472      عالية  \n",
              "1  تأثير إيجابي على 9842 مستفيد                    55771     متوسطة  \n",
              "2   تأثير إيجابي على 695 مستفيد                    89226      عالية  \n",
              "3  تأثير إيجابي على 1174 مستفيد                    61943     منخفضة  \n",
              "4  تأثير إيجابي على 5807 مستفيد                    21810      عالية  "
            ],
            "text/html": [
              "\n",
              "  <div id=\"df-e9d5a1ac-28c8-4fc0-b614-eda1b9fa5463\" class=\"colab-df-container\">\n",
              "    <div>\n",
              "<style scoped>\n",
              "    .dataframe tbody tr th:only-of-type {\n",
              "        vertical-align: middle;\n",
              "    }\n",
              "\n",
              "    .dataframe tbody tr th {\n",
              "        vertical-align: top;\n",
              "    }\n",
              "\n",
              "    .dataframe thead th {\n",
              "        text-align: right;\n",
              "    }\n",
              "</style>\n",
              "<table border=\"1\" class=\"dataframe\">\n",
              "  <thead>\n",
              "    <tr style=\"text-align: right;\">\n",
              "      <th></th>\n",
              "      <th>Initiative Name</th>\n",
              "      <th>Goals</th>\n",
              "      <th>Target Groups</th>\n",
              "      <th>Expected Impact</th>\n",
              "      <th>Number of Beneficiaries</th>\n",
              "      <th>Importance</th>\n",
              "    </tr>\n",
              "  </thead>\n",
              "  <tbody>\n",
              "    <tr>\n",
              "      <th>0</th>\n",
              "      <td>مبادرة رقم 1</td>\n",
              "      <td>تحقيق هدف تحسين في المجال رقم 16</td>\n",
              "      <td>المواطنين</td>\n",
              "      <td>تأثير إيجابي على 1947 مستفيد</td>\n",
              "      <td>49472</td>\n",
              "      <td>عالية</td>\n",
              "    </tr>\n",
              "    <tr>\n",
              "      <th>1</th>\n",
              "      <td>مبادرة رقم 2</td>\n",
              "      <td>تحقيق هدف تحسين في المجال رقم 9</td>\n",
              "      <td>المواطنين</td>\n",
              "      <td>تأثير إيجابي على 9842 مستفيد</td>\n",
              "      <td>55771</td>\n",
              "      <td>متوسطة</td>\n",
              "    </tr>\n",
              "    <tr>\n",
              "      <th>2</th>\n",
              "      <td>مبادرة رقم 3</td>\n",
              "      <td>تحقيق هدف تحسين في المجال رقم 13</td>\n",
              "      <td>الطلاب</td>\n",
              "      <td>تأثير إيجابي على 695 مستفيد</td>\n",
              "      <td>89226</td>\n",
              "      <td>عالية</td>\n",
              "    </tr>\n",
              "    <tr>\n",
              "      <th>3</th>\n",
              "      <td>مبادرة رقم 4</td>\n",
              "      <td>تحقيق هدف تحسين في المجال رقم 20</td>\n",
              "      <td>الطلاب</td>\n",
              "      <td>تأثير إيجابي على 1174 مستفيد</td>\n",
              "      <td>61943</td>\n",
              "      <td>منخفضة</td>\n",
              "    </tr>\n",
              "    <tr>\n",
              "      <th>4</th>\n",
              "      <td>مبادرة رقم 5</td>\n",
              "      <td>تحقيق هدف تحسين في المجال رقم 5</td>\n",
              "      <td>المواطنين</td>\n",
              "      <td>تأثير إيجابي على 5807 مستفيد</td>\n",
              "      <td>21810</td>\n",
              "      <td>عالية</td>\n",
              "    </tr>\n",
              "  </tbody>\n",
              "</table>\n",
              "</div>\n",
              "    <div class=\"colab-df-buttons\">\n",
              "\n",
              "  <div class=\"colab-df-container\">\n",
              "    <button class=\"colab-df-convert\" onclick=\"convertToInteractive('df-e9d5a1ac-28c8-4fc0-b614-eda1b9fa5463')\"\n",
              "            title=\"Convert this dataframe to an interactive table.\"\n",
              "            style=\"display:none;\">\n",
              "\n",
              "  <svg xmlns=\"http://www.w3.org/2000/svg\" height=\"24px\" viewBox=\"0 -960 960 960\">\n",
              "    <path d=\"M120-120v-720h720v720H120Zm60-500h600v-160H180v160Zm220 220h160v-160H400v160Zm0 220h160v-160H400v160ZM180-400h160v-160H180v160Zm440 0h160v-160H620v160ZM180-180h160v-160H180v160Zm440 0h160v-160H620v160Z\"/>\n",
              "  </svg>\n",
              "    </button>\n",
              "\n",
              "  <style>\n",
              "    .colab-df-container {\n",
              "      display:flex;\n",
              "      gap: 12px;\n",
              "    }\n",
              "\n",
              "    .colab-df-convert {\n",
              "      background-color: #E8F0FE;\n",
              "      border: none;\n",
              "      border-radius: 50%;\n",
              "      cursor: pointer;\n",
              "      display: none;\n",
              "      fill: #1967D2;\n",
              "      height: 32px;\n",
              "      padding: 0 0 0 0;\n",
              "      width: 32px;\n",
              "    }\n",
              "\n",
              "    .colab-df-convert:hover {\n",
              "      background-color: #E2EBFA;\n",
              "      box-shadow: 0px 1px 2px rgba(60, 64, 67, 0.3), 0px 1px 3px 1px rgba(60, 64, 67, 0.15);\n",
              "      fill: #174EA6;\n",
              "    }\n",
              "\n",
              "    .colab-df-buttons div {\n",
              "      margin-bottom: 4px;\n",
              "    }\n",
              "\n",
              "    [theme=dark] .colab-df-convert {\n",
              "      background-color: #3B4455;\n",
              "      fill: #D2E3FC;\n",
              "    }\n",
              "\n",
              "    [theme=dark] .colab-df-convert:hover {\n",
              "      background-color: #434B5C;\n",
              "      box-shadow: 0px 1px 3px 1px rgba(0, 0, 0, 0.15);\n",
              "      filter: drop-shadow(0px 1px 2px rgba(0, 0, 0, 0.3));\n",
              "      fill: #FFFFFF;\n",
              "    }\n",
              "  </style>\n",
              "\n",
              "    <script>\n",
              "      const buttonEl =\n",
              "        document.querySelector('#df-e9d5a1ac-28c8-4fc0-b614-eda1b9fa5463 button.colab-df-convert');\n",
              "      buttonEl.style.display =\n",
              "        google.colab.kernel.accessAllowed ? 'block' : 'none';\n",
              "\n",
              "      async function convertToInteractive(key) {\n",
              "        const element = document.querySelector('#df-e9d5a1ac-28c8-4fc0-b614-eda1b9fa5463');\n",
              "        const dataTable =\n",
              "          await google.colab.kernel.invokeFunction('convertToInteractive',\n",
              "                                                    [key], {});\n",
              "        if (!dataTable) return;\n",
              "\n",
              "        const docLinkHtml = 'Like what you see? Visit the ' +\n",
              "          '<a target=\"_blank\" href=https://colab.research.google.com/notebooks/data_table.ipynb>data table notebook</a>'\n",
              "          + ' to learn more about interactive tables.';\n",
              "        element.innerHTML = '';\n",
              "        dataTable['output_type'] = 'display_data';\n",
              "        await google.colab.output.renderOutput(dataTable, element);\n",
              "        const docLink = document.createElement('div');\n",
              "        docLink.innerHTML = docLinkHtml;\n",
              "        element.appendChild(docLink);\n",
              "      }\n",
              "    </script>\n",
              "  </div>\n",
              "\n",
              "\n",
              "<div id=\"df-76a5f4dc-0679-4c5c-8ff9-5efdb854e85e\">\n",
              "  <button class=\"colab-df-quickchart\" onclick=\"quickchart('df-76a5f4dc-0679-4c5c-8ff9-5efdb854e85e')\"\n",
              "            title=\"Suggest charts\"\n",
              "            style=\"display:none;\">\n",
              "\n",
              "<svg xmlns=\"http://www.w3.org/2000/svg\" height=\"24px\"viewBox=\"0 0 24 24\"\n",
              "     width=\"24px\">\n",
              "    <g>\n",
              "        <path d=\"M19 3H5c-1.1 0-2 .9-2 2v14c0 1.1.9 2 2 2h14c1.1 0 2-.9 2-2V5c0-1.1-.9-2-2-2zM9 17H7v-7h2v7zm4 0h-2V7h2v10zm4 0h-2v-4h2v4z\"/>\n",
              "    </g>\n",
              "</svg>\n",
              "  </button>\n",
              "\n",
              "<style>\n",
              "  .colab-df-quickchart {\n",
              "      --bg-color: #E8F0FE;\n",
              "      --fill-color: #1967D2;\n",
              "      --hover-bg-color: #E2EBFA;\n",
              "      --hover-fill-color: #174EA6;\n",
              "      --disabled-fill-color: #AAA;\n",
              "      --disabled-bg-color: #DDD;\n",
              "  }\n",
              "\n",
              "  [theme=dark] .colab-df-quickchart {\n",
              "      --bg-color: #3B4455;\n",
              "      --fill-color: #D2E3FC;\n",
              "      --hover-bg-color: #434B5C;\n",
              "      --hover-fill-color: #FFFFFF;\n",
              "      --disabled-bg-color: #3B4455;\n",
              "      --disabled-fill-color: #666;\n",
              "  }\n",
              "\n",
              "  .colab-df-quickchart {\n",
              "    background-color: var(--bg-color);\n",
              "    border: none;\n",
              "    border-radius: 50%;\n",
              "    cursor: pointer;\n",
              "    display: none;\n",
              "    fill: var(--fill-color);\n",
              "    height: 32px;\n",
              "    padding: 0;\n",
              "    width: 32px;\n",
              "  }\n",
              "\n",
              "  .colab-df-quickchart:hover {\n",
              "    background-color: var(--hover-bg-color);\n",
              "    box-shadow: 0 1px 2px rgba(60, 64, 67, 0.3), 0 1px 3px 1px rgba(60, 64, 67, 0.15);\n",
              "    fill: var(--button-hover-fill-color);\n",
              "  }\n",
              "\n",
              "  .colab-df-quickchart-complete:disabled,\n",
              "  .colab-df-quickchart-complete:disabled:hover {\n",
              "    background-color: var(--disabled-bg-color);\n",
              "    fill: var(--disabled-fill-color);\n",
              "    box-shadow: none;\n",
              "  }\n",
              "\n",
              "  .colab-df-spinner {\n",
              "    border: 2px solid var(--fill-color);\n",
              "    border-color: transparent;\n",
              "    border-bottom-color: var(--fill-color);\n",
              "    animation:\n",
              "      spin 1s steps(1) infinite;\n",
              "  }\n",
              "\n",
              "  @keyframes spin {\n",
              "    0% {\n",
              "      border-color: transparent;\n",
              "      border-bottom-color: var(--fill-color);\n",
              "      border-left-color: var(--fill-color);\n",
              "    }\n",
              "    20% {\n",
              "      border-color: transparent;\n",
              "      border-left-color: var(--fill-color);\n",
              "      border-top-color: var(--fill-color);\n",
              "    }\n",
              "    30% {\n",
              "      border-color: transparent;\n",
              "      border-left-color: var(--fill-color);\n",
              "      border-top-color: var(--fill-color);\n",
              "      border-right-color: var(--fill-color);\n",
              "    }\n",
              "    40% {\n",
              "      border-color: transparent;\n",
              "      border-right-color: var(--fill-color);\n",
              "      border-top-color: var(--fill-color);\n",
              "    }\n",
              "    60% {\n",
              "      border-color: transparent;\n",
              "      border-right-color: var(--fill-color);\n",
              "    }\n",
              "    80% {\n",
              "      border-color: transparent;\n",
              "      border-right-color: var(--fill-color);\n",
              "      border-bottom-color: var(--fill-color);\n",
              "    }\n",
              "    90% {\n",
              "      border-color: transparent;\n",
              "      border-bottom-color: var(--fill-color);\n",
              "    }\n",
              "  }\n",
              "</style>\n",
              "\n",
              "  <script>\n",
              "    async function quickchart(key) {\n",
              "      const quickchartButtonEl =\n",
              "        document.querySelector('#' + key + ' button');\n",
              "      quickchartButtonEl.disabled = true;  // To prevent multiple clicks.\n",
              "      quickchartButtonEl.classList.add('colab-df-spinner');\n",
              "      try {\n",
              "        const charts = await google.colab.kernel.invokeFunction(\n",
              "            'suggestCharts', [key], {});\n",
              "      } catch (error) {\n",
              "        console.error('Error during call to suggestCharts:', error);\n",
              "      }\n",
              "      quickchartButtonEl.classList.remove('colab-df-spinner');\n",
              "      quickchartButtonEl.classList.add('colab-df-quickchart-complete');\n",
              "    }\n",
              "    (() => {\n",
              "      let quickchartButtonEl =\n",
              "        document.querySelector('#df-76a5f4dc-0679-4c5c-8ff9-5efdb854e85e button');\n",
              "      quickchartButtonEl.style.display =\n",
              "        google.colab.kernel.accessAllowed ? 'block' : 'none';\n",
              "    })();\n",
              "  </script>\n",
              "</div>\n",
              "\n",
              "    </div>\n",
              "  </div>\n"
            ],
            "application/vnd.google.colaboratory.intrinsic+json": {
              "type": "dataframe",
              "variable_name": "initiatives_data",
              "summary": "{\n  \"name\": \"initiatives_data\",\n  \"rows\": 500,\n  \"fields\": [\n    {\n      \"column\": \"Initiative Name\",\n      \"properties\": {\n        \"dtype\": \"string\",\n        \"num_unique_values\": 500,\n        \"samples\": [\n          \"\\u0645\\u0628\\u0627\\u062f\\u0631\\u0629 \\u0631\\u0642\\u0645 362\",\n          \"\\u0645\\u0628\\u0627\\u062f\\u0631\\u0629 \\u0631\\u0642\\u0645 74\",\n          \"\\u0645\\u0628\\u0627\\u062f\\u0631\\u0629 \\u0631\\u0642\\u0645 375\"\n        ],\n        \"semantic_type\": \"\",\n        \"description\": \"\"\n      }\n    },\n    {\n      \"column\": \"Goals\",\n      \"properties\": {\n        \"dtype\": \"category\",\n        \"num_unique_values\": 20,\n        \"samples\": [\n          \"\\u062a\\u062d\\u0642\\u064a\\u0642 \\u0647\\u062f\\u0641 \\u062a\\u062d\\u0633\\u064a\\u0646 \\u0641\\u064a \\u0627\\u0644\\u0645\\u062c\\u0627\\u0644 \\u0631\\u0642\\u0645 16\",\n          \"\\u062a\\u062d\\u0642\\u064a\\u0642 \\u0647\\u062f\\u0641 \\u062a\\u062d\\u0633\\u064a\\u0646 \\u0641\\u064a \\u0627\\u0644\\u0645\\u062c\\u0627\\u0644 \\u0631\\u0642\\u0645 7\",\n          \"\\u062a\\u062d\\u0642\\u064a\\u0642 \\u0647\\u062f\\u0641 \\u062a\\u062d\\u0633\\u064a\\u0646 \\u0641\\u064a \\u0627\\u0644\\u0645\\u062c\\u0627\\u0644 \\u0631\\u0642\\u0645 18\"\n        ],\n        \"semantic_type\": \"\",\n        \"description\": \"\"\n      }\n    },\n    {\n      \"column\": \"Target Groups\",\n      \"properties\": {\n        \"dtype\": \"category\",\n        \"num_unique_values\": 4,\n        \"samples\": [\n          \"\\u0627\\u0644\\u0637\\u0644\\u0627\\u0628\",\n          \"\\u0627\\u0644\\u0645\\u062c\\u062a\\u0645\\u0639 \\u0627\\u0644\\u0645\\u062f\\u0646\\u064a\",\n          \"\\u0627\\u0644\\u0645\\u0648\\u0627\\u0637\\u0646\\u064a\\u0646\"\n        ],\n        \"semantic_type\": \"\",\n        \"description\": \"\"\n      }\n    },\n    {\n      \"column\": \"Expected Impact\",\n      \"properties\": {\n        \"dtype\": \"string\",\n        \"num_unique_values\": 487,\n        \"samples\": [\n          \"\\u062a\\u0623\\u062b\\u064a\\u0631 \\u0625\\u064a\\u062c\\u0627\\u0628\\u064a \\u0639\\u0644\\u0649 6447 \\u0645\\u0633\\u062a\\u0641\\u064a\\u062f\",\n          \"\\u062a\\u0623\\u062b\\u064a\\u0631 \\u0625\\u064a\\u062c\\u0627\\u0628\\u064a \\u0639\\u0644\\u0649 265 \\u0645\\u0633\\u062a\\u0641\\u064a\\u062f\",\n          \"\\u062a\\u0623\\u062b\\u064a\\u0631 \\u0625\\u064a\\u062c\\u0627\\u0628\\u064a \\u0639\\u0644\\u0649 8088 \\u0645\\u0633\\u062a\\u0641\\u064a\\u062f\"\n        ],\n        \"semantic_type\": \"\",\n        \"description\": \"\"\n      }\n    },\n    {\n      \"column\": \"Number of Beneficiaries\",\n      \"properties\": {\n        \"dtype\": \"number\",\n        \"std\": 28747,\n        \"min\": 1067,\n        \"max\": 99876,\n        \"num_unique_values\": 500,\n        \"samples\": [\n          28989,\n          57795,\n          1606\n        ],\n        \"semantic_type\": \"\",\n        \"description\": \"\"\n      }\n    },\n    {\n      \"column\": \"Importance\",\n      \"properties\": {\n        \"dtype\": \"category\",\n        \"num_unique_values\": 3,\n        \"samples\": [\n          \"\\u0639\\u0627\\u0644\\u064a\\u0629\",\n          \"\\u0645\\u062a\\u0648\\u0633\\u0637\\u0629\",\n          \"\\u0645\\u0646\\u062e\\u0641\\u0636\\u0629\"\n        ],\n        \"semantic_type\": \"\",\n        \"description\": \"\"\n      }\n    }\n  ]\n}"
            }
          },
          "metadata": {},
          "execution_count": 6
        }
      ]
    },
    {
      "cell_type": "markdown",
      "source": [
        "تحليل البيانات\n",
        "تم تحميل البيانات وهي تحتوي على الحقول التالية:\n",
        "\n",
        "Initiative Name (اسم المبادرة): اسم المبادرة.\n",
        "\n",
        "Goals (الأهداف): الهدف من المبادرة.\n",
        "\n",
        "Target Groups (المستفيدون المستهدفون): الفئة المستهدفة.\n",
        "\n",
        "Expected Impact (الأثر المتوقع): وصف للأثر المتوقع.\n",
        "\n",
        "Number of Beneficiaries (عدد المستفيدين): عدد المستفيدين المتوقعين.\n",
        "\n",
        "Importance (الأهمية): أهمية المبادرة (عالية، متوسطة، منخفضة)."
      ],
      "metadata": {
        "id": "Si5itXZfWIzE"
      }
    },
    {
      "cell_type": "markdown",
      "source": [
        "الخطوات المطلوبة لتنفيذ الذكاء الاصطناعي باستخدام هذه البيانات\n",
        "\n",
        "تنظيف البيانات:\n",
        "\n",
        "استخراج المعلومات الرقمية والنصية المفيدة.\n",
        "تحويل التصنيفات النصية مثل \"عالية\" إلى قيم رقمية.\n",
        "\n",
        "\n",
        "إعداد البيانات لنظام التوصيات:\n",
        "\n",
        "إضافة أوزان لكل ميزة (الأهمية، عدد المستفيدين، الأثر المتوقع) لحساب درجة الأولوية.\n",
        "\n",
        "\n",
        "تنفيذ نظام التوصيات:\n",
        "\n",
        "حساب درجة الأولوية بناءً على المعادلة.\n",
        "تحليل الأداء:\n",
        "\n",
        "استنتاج مقاييس الأداء بناءً على عدد المستفيدين والبيانات الأخرى.\n",
        "التعامل مع التكرار:\n",
        "\n",
        "مقارنة أوصاف المبادرات لاكتشاف التشابه باستخدام خوارزميات النصوص."
      ],
      "metadata": {
        "id": "oXwtoblrW3vd"
      }
    },
    {
      "cell_type": "markdown",
      "source": [
        "تنظيف البيانات"
      ],
      "metadata": {
        "id": "bbnvVG7qW_G5"
      }
    },
    {
      "cell_type": "code",
      "source": [
        "# Clean and preprocess the dataset for analysis\n",
        "\n",
        "# Extract numeric values from 'Number of Beneficiaries'\n",
        "initiatives_data['Number of Beneficiaries'] = initiatives_data['Number of Beneficiaries'].astype(int)\n",
        "\n",
        "# Map 'Importance' to numeric values\n",
        "importance_mapping = {'عالية': 3, 'متوسطة': 2, 'منخفضة': 1}\n",
        "initiatives_data['Importance'] = initiatives_data['Importance'].map(importance_mapping)\n",
        "\n",
        "# Check for missing or invalid values\n",
        "initiatives_data_cleaned = initiatives_data.dropna()\n",
        "\n",
        "# Display the cleaned dataset\n",
        "initiatives_data_cleaned.head()"
      ],
      "metadata": {
        "colab": {
          "base_uri": "https://localhost:8080/",
          "height": 206
        },
        "id": "h8kQmA7AXARH",
        "outputId": "079415a1-ec7f-4a5a-9543-a4ccfeead176"
      },
      "execution_count": 7,
      "outputs": [
        {
          "output_type": "execute_result",
          "data": {
            "text/plain": [
              "  Initiative Name                             Goals Target Groups  \\\n",
              "0    مبادرة رقم 1  تحقيق هدف تحسين في المجال رقم 16     المواطنين   \n",
              "1    مبادرة رقم 2   تحقيق هدف تحسين في المجال رقم 9     المواطنين   \n",
              "2    مبادرة رقم 3  تحقيق هدف تحسين في المجال رقم 13        الطلاب   \n",
              "3    مبادرة رقم 4  تحقيق هدف تحسين في المجال رقم 20        الطلاب   \n",
              "4    مبادرة رقم 5   تحقيق هدف تحسين في المجال رقم 5     المواطنين   \n",
              "\n",
              "                Expected Impact  Number of Beneficiaries  Importance  \n",
              "0  تأثير إيجابي على 1947 مستفيد                    49472           3  \n",
              "1  تأثير إيجابي على 9842 مستفيد                    55771           2  \n",
              "2   تأثير إيجابي على 695 مستفيد                    89226           3  \n",
              "3  تأثير إيجابي على 1174 مستفيد                    61943           1  \n",
              "4  تأثير إيجابي على 5807 مستفيد                    21810           3  "
            ],
            "text/html": [
              "\n",
              "  <div id=\"df-871e99bd-1ba0-4235-8954-c2ebf7368e19\" class=\"colab-df-container\">\n",
              "    <div>\n",
              "<style scoped>\n",
              "    .dataframe tbody tr th:only-of-type {\n",
              "        vertical-align: middle;\n",
              "    }\n",
              "\n",
              "    .dataframe tbody tr th {\n",
              "        vertical-align: top;\n",
              "    }\n",
              "\n",
              "    .dataframe thead th {\n",
              "        text-align: right;\n",
              "    }\n",
              "</style>\n",
              "<table border=\"1\" class=\"dataframe\">\n",
              "  <thead>\n",
              "    <tr style=\"text-align: right;\">\n",
              "      <th></th>\n",
              "      <th>Initiative Name</th>\n",
              "      <th>Goals</th>\n",
              "      <th>Target Groups</th>\n",
              "      <th>Expected Impact</th>\n",
              "      <th>Number of Beneficiaries</th>\n",
              "      <th>Importance</th>\n",
              "    </tr>\n",
              "  </thead>\n",
              "  <tbody>\n",
              "    <tr>\n",
              "      <th>0</th>\n",
              "      <td>مبادرة رقم 1</td>\n",
              "      <td>تحقيق هدف تحسين في المجال رقم 16</td>\n",
              "      <td>المواطنين</td>\n",
              "      <td>تأثير إيجابي على 1947 مستفيد</td>\n",
              "      <td>49472</td>\n",
              "      <td>3</td>\n",
              "    </tr>\n",
              "    <tr>\n",
              "      <th>1</th>\n",
              "      <td>مبادرة رقم 2</td>\n",
              "      <td>تحقيق هدف تحسين في المجال رقم 9</td>\n",
              "      <td>المواطنين</td>\n",
              "      <td>تأثير إيجابي على 9842 مستفيد</td>\n",
              "      <td>55771</td>\n",
              "      <td>2</td>\n",
              "    </tr>\n",
              "    <tr>\n",
              "      <th>2</th>\n",
              "      <td>مبادرة رقم 3</td>\n",
              "      <td>تحقيق هدف تحسين في المجال رقم 13</td>\n",
              "      <td>الطلاب</td>\n",
              "      <td>تأثير إيجابي على 695 مستفيد</td>\n",
              "      <td>89226</td>\n",
              "      <td>3</td>\n",
              "    </tr>\n",
              "    <tr>\n",
              "      <th>3</th>\n",
              "      <td>مبادرة رقم 4</td>\n",
              "      <td>تحقيق هدف تحسين في المجال رقم 20</td>\n",
              "      <td>الطلاب</td>\n",
              "      <td>تأثير إيجابي على 1174 مستفيد</td>\n",
              "      <td>61943</td>\n",
              "      <td>1</td>\n",
              "    </tr>\n",
              "    <tr>\n",
              "      <th>4</th>\n",
              "      <td>مبادرة رقم 5</td>\n",
              "      <td>تحقيق هدف تحسين في المجال رقم 5</td>\n",
              "      <td>المواطنين</td>\n",
              "      <td>تأثير إيجابي على 5807 مستفيد</td>\n",
              "      <td>21810</td>\n",
              "      <td>3</td>\n",
              "    </tr>\n",
              "  </tbody>\n",
              "</table>\n",
              "</div>\n",
              "    <div class=\"colab-df-buttons\">\n",
              "\n",
              "  <div class=\"colab-df-container\">\n",
              "    <button class=\"colab-df-convert\" onclick=\"convertToInteractive('df-871e99bd-1ba0-4235-8954-c2ebf7368e19')\"\n",
              "            title=\"Convert this dataframe to an interactive table.\"\n",
              "            style=\"display:none;\">\n",
              "\n",
              "  <svg xmlns=\"http://www.w3.org/2000/svg\" height=\"24px\" viewBox=\"0 -960 960 960\">\n",
              "    <path d=\"M120-120v-720h720v720H120Zm60-500h600v-160H180v160Zm220 220h160v-160H400v160Zm0 220h160v-160H400v160ZM180-400h160v-160H180v160Zm440 0h160v-160H620v160ZM180-180h160v-160H180v160Zm440 0h160v-160H620v160Z\"/>\n",
              "  </svg>\n",
              "    </button>\n",
              "\n",
              "  <style>\n",
              "    .colab-df-container {\n",
              "      display:flex;\n",
              "      gap: 12px;\n",
              "    }\n",
              "\n",
              "    .colab-df-convert {\n",
              "      background-color: #E8F0FE;\n",
              "      border: none;\n",
              "      border-radius: 50%;\n",
              "      cursor: pointer;\n",
              "      display: none;\n",
              "      fill: #1967D2;\n",
              "      height: 32px;\n",
              "      padding: 0 0 0 0;\n",
              "      width: 32px;\n",
              "    }\n",
              "\n",
              "    .colab-df-convert:hover {\n",
              "      background-color: #E2EBFA;\n",
              "      box-shadow: 0px 1px 2px rgba(60, 64, 67, 0.3), 0px 1px 3px 1px rgba(60, 64, 67, 0.15);\n",
              "      fill: #174EA6;\n",
              "    }\n",
              "\n",
              "    .colab-df-buttons div {\n",
              "      margin-bottom: 4px;\n",
              "    }\n",
              "\n",
              "    [theme=dark] .colab-df-convert {\n",
              "      background-color: #3B4455;\n",
              "      fill: #D2E3FC;\n",
              "    }\n",
              "\n",
              "    [theme=dark] .colab-df-convert:hover {\n",
              "      background-color: #434B5C;\n",
              "      box-shadow: 0px 1px 3px 1px rgba(0, 0, 0, 0.15);\n",
              "      filter: drop-shadow(0px 1px 2px rgba(0, 0, 0, 0.3));\n",
              "      fill: #FFFFFF;\n",
              "    }\n",
              "  </style>\n",
              "\n",
              "    <script>\n",
              "      const buttonEl =\n",
              "        document.querySelector('#df-871e99bd-1ba0-4235-8954-c2ebf7368e19 button.colab-df-convert');\n",
              "      buttonEl.style.display =\n",
              "        google.colab.kernel.accessAllowed ? 'block' : 'none';\n",
              "\n",
              "      async function convertToInteractive(key) {\n",
              "        const element = document.querySelector('#df-871e99bd-1ba0-4235-8954-c2ebf7368e19');\n",
              "        const dataTable =\n",
              "          await google.colab.kernel.invokeFunction('convertToInteractive',\n",
              "                                                    [key], {});\n",
              "        if (!dataTable) return;\n",
              "\n",
              "        const docLinkHtml = 'Like what you see? Visit the ' +\n",
              "          '<a target=\"_blank\" href=https://colab.research.google.com/notebooks/data_table.ipynb>data table notebook</a>'\n",
              "          + ' to learn more about interactive tables.';\n",
              "        element.innerHTML = '';\n",
              "        dataTable['output_type'] = 'display_data';\n",
              "        await google.colab.output.renderOutput(dataTable, element);\n",
              "        const docLink = document.createElement('div');\n",
              "        docLink.innerHTML = docLinkHtml;\n",
              "        element.appendChild(docLink);\n",
              "      }\n",
              "    </script>\n",
              "  </div>\n",
              "\n",
              "\n",
              "<div id=\"df-f64a8e06-b19c-483a-b260-c7bf0b5b7b6e\">\n",
              "  <button class=\"colab-df-quickchart\" onclick=\"quickchart('df-f64a8e06-b19c-483a-b260-c7bf0b5b7b6e')\"\n",
              "            title=\"Suggest charts\"\n",
              "            style=\"display:none;\">\n",
              "\n",
              "<svg xmlns=\"http://www.w3.org/2000/svg\" height=\"24px\"viewBox=\"0 0 24 24\"\n",
              "     width=\"24px\">\n",
              "    <g>\n",
              "        <path d=\"M19 3H5c-1.1 0-2 .9-2 2v14c0 1.1.9 2 2 2h14c1.1 0 2-.9 2-2V5c0-1.1-.9-2-2-2zM9 17H7v-7h2v7zm4 0h-2V7h2v10zm4 0h-2v-4h2v4z\"/>\n",
              "    </g>\n",
              "</svg>\n",
              "  </button>\n",
              "\n",
              "<style>\n",
              "  .colab-df-quickchart {\n",
              "      --bg-color: #E8F0FE;\n",
              "      --fill-color: #1967D2;\n",
              "      --hover-bg-color: #E2EBFA;\n",
              "      --hover-fill-color: #174EA6;\n",
              "      --disabled-fill-color: #AAA;\n",
              "      --disabled-bg-color: #DDD;\n",
              "  }\n",
              "\n",
              "  [theme=dark] .colab-df-quickchart {\n",
              "      --bg-color: #3B4455;\n",
              "      --fill-color: #D2E3FC;\n",
              "      --hover-bg-color: #434B5C;\n",
              "      --hover-fill-color: #FFFFFF;\n",
              "      --disabled-bg-color: #3B4455;\n",
              "      --disabled-fill-color: #666;\n",
              "  }\n",
              "\n",
              "  .colab-df-quickchart {\n",
              "    background-color: var(--bg-color);\n",
              "    border: none;\n",
              "    border-radius: 50%;\n",
              "    cursor: pointer;\n",
              "    display: none;\n",
              "    fill: var(--fill-color);\n",
              "    height: 32px;\n",
              "    padding: 0;\n",
              "    width: 32px;\n",
              "  }\n",
              "\n",
              "  .colab-df-quickchart:hover {\n",
              "    background-color: var(--hover-bg-color);\n",
              "    box-shadow: 0 1px 2px rgba(60, 64, 67, 0.3), 0 1px 3px 1px rgba(60, 64, 67, 0.15);\n",
              "    fill: var(--button-hover-fill-color);\n",
              "  }\n",
              "\n",
              "  .colab-df-quickchart-complete:disabled,\n",
              "  .colab-df-quickchart-complete:disabled:hover {\n",
              "    background-color: var(--disabled-bg-color);\n",
              "    fill: var(--disabled-fill-color);\n",
              "    box-shadow: none;\n",
              "  }\n",
              "\n",
              "  .colab-df-spinner {\n",
              "    border: 2px solid var(--fill-color);\n",
              "    border-color: transparent;\n",
              "    border-bottom-color: var(--fill-color);\n",
              "    animation:\n",
              "      spin 1s steps(1) infinite;\n",
              "  }\n",
              "\n",
              "  @keyframes spin {\n",
              "    0% {\n",
              "      border-color: transparent;\n",
              "      border-bottom-color: var(--fill-color);\n",
              "      border-left-color: var(--fill-color);\n",
              "    }\n",
              "    20% {\n",
              "      border-color: transparent;\n",
              "      border-left-color: var(--fill-color);\n",
              "      border-top-color: var(--fill-color);\n",
              "    }\n",
              "    30% {\n",
              "      border-color: transparent;\n",
              "      border-left-color: var(--fill-color);\n",
              "      border-top-color: var(--fill-color);\n",
              "      border-right-color: var(--fill-color);\n",
              "    }\n",
              "    40% {\n",
              "      border-color: transparent;\n",
              "      border-right-color: var(--fill-color);\n",
              "      border-top-color: var(--fill-color);\n",
              "    }\n",
              "    60% {\n",
              "      border-color: transparent;\n",
              "      border-right-color: var(--fill-color);\n",
              "    }\n",
              "    80% {\n",
              "      border-color: transparent;\n",
              "      border-right-color: var(--fill-color);\n",
              "      border-bottom-color: var(--fill-color);\n",
              "    }\n",
              "    90% {\n",
              "      border-color: transparent;\n",
              "      border-bottom-color: var(--fill-color);\n",
              "    }\n",
              "  }\n",
              "</style>\n",
              "\n",
              "  <script>\n",
              "    async function quickchart(key) {\n",
              "      const quickchartButtonEl =\n",
              "        document.querySelector('#' + key + ' button');\n",
              "      quickchartButtonEl.disabled = true;  // To prevent multiple clicks.\n",
              "      quickchartButtonEl.classList.add('colab-df-spinner');\n",
              "      try {\n",
              "        const charts = await google.colab.kernel.invokeFunction(\n",
              "            'suggestCharts', [key], {});\n",
              "      } catch (error) {\n",
              "        console.error('Error during call to suggestCharts:', error);\n",
              "      }\n",
              "      quickchartButtonEl.classList.remove('colab-df-spinner');\n",
              "      quickchartButtonEl.classList.add('colab-df-quickchart-complete');\n",
              "    }\n",
              "    (() => {\n",
              "      let quickchartButtonEl =\n",
              "        document.querySelector('#df-f64a8e06-b19c-483a-b260-c7bf0b5b7b6e button');\n",
              "      quickchartButtonEl.style.display =\n",
              "        google.colab.kernel.accessAllowed ? 'block' : 'none';\n",
              "    })();\n",
              "  </script>\n",
              "</div>\n",
              "\n",
              "    </div>\n",
              "  </div>\n"
            ],
            "application/vnd.google.colaboratory.intrinsic+json": {
              "type": "dataframe",
              "variable_name": "initiatives_data_cleaned",
              "summary": "{\n  \"name\": \"initiatives_data_cleaned\",\n  \"rows\": 500,\n  \"fields\": [\n    {\n      \"column\": \"Initiative Name\",\n      \"properties\": {\n        \"dtype\": \"string\",\n        \"num_unique_values\": 500,\n        \"samples\": [\n          \"\\u0645\\u0628\\u0627\\u062f\\u0631\\u0629 \\u0631\\u0642\\u0645 362\",\n          \"\\u0645\\u0628\\u0627\\u062f\\u0631\\u0629 \\u0631\\u0642\\u0645 74\",\n          \"\\u0645\\u0628\\u0627\\u062f\\u0631\\u0629 \\u0631\\u0642\\u0645 375\"\n        ],\n        \"semantic_type\": \"\",\n        \"description\": \"\"\n      }\n    },\n    {\n      \"column\": \"Goals\",\n      \"properties\": {\n        \"dtype\": \"category\",\n        \"num_unique_values\": 20,\n        \"samples\": [\n          \"\\u062a\\u062d\\u0642\\u064a\\u0642 \\u0647\\u062f\\u0641 \\u062a\\u062d\\u0633\\u064a\\u0646 \\u0641\\u064a \\u0627\\u0644\\u0645\\u062c\\u0627\\u0644 \\u0631\\u0642\\u0645 16\",\n          \"\\u062a\\u062d\\u0642\\u064a\\u0642 \\u0647\\u062f\\u0641 \\u062a\\u062d\\u0633\\u064a\\u0646 \\u0641\\u064a \\u0627\\u0644\\u0645\\u062c\\u0627\\u0644 \\u0631\\u0642\\u0645 7\",\n          \"\\u062a\\u062d\\u0642\\u064a\\u0642 \\u0647\\u062f\\u0641 \\u062a\\u062d\\u0633\\u064a\\u0646 \\u0641\\u064a \\u0627\\u0644\\u0645\\u062c\\u0627\\u0644 \\u0631\\u0642\\u0645 18\"\n        ],\n        \"semantic_type\": \"\",\n        \"description\": \"\"\n      }\n    },\n    {\n      \"column\": \"Target Groups\",\n      \"properties\": {\n        \"dtype\": \"category\",\n        \"num_unique_values\": 4,\n        \"samples\": [\n          \"\\u0627\\u0644\\u0637\\u0644\\u0627\\u0628\",\n          \"\\u0627\\u0644\\u0645\\u062c\\u062a\\u0645\\u0639 \\u0627\\u0644\\u0645\\u062f\\u0646\\u064a\",\n          \"\\u0627\\u0644\\u0645\\u0648\\u0627\\u0637\\u0646\\u064a\\u0646\"\n        ],\n        \"semantic_type\": \"\",\n        \"description\": \"\"\n      }\n    },\n    {\n      \"column\": \"Expected Impact\",\n      \"properties\": {\n        \"dtype\": \"string\",\n        \"num_unique_values\": 487,\n        \"samples\": [\n          \"\\u062a\\u0623\\u062b\\u064a\\u0631 \\u0625\\u064a\\u062c\\u0627\\u0628\\u064a \\u0639\\u0644\\u0649 6447 \\u0645\\u0633\\u062a\\u0641\\u064a\\u062f\",\n          \"\\u062a\\u0623\\u062b\\u064a\\u0631 \\u0625\\u064a\\u062c\\u0627\\u0628\\u064a \\u0639\\u0644\\u0649 265 \\u0645\\u0633\\u062a\\u0641\\u064a\\u062f\",\n          \"\\u062a\\u0623\\u062b\\u064a\\u0631 \\u0625\\u064a\\u062c\\u0627\\u0628\\u064a \\u0639\\u0644\\u0649 8088 \\u0645\\u0633\\u062a\\u0641\\u064a\\u062f\"\n        ],\n        \"semantic_type\": \"\",\n        \"description\": \"\"\n      }\n    },\n    {\n      \"column\": \"Number of Beneficiaries\",\n      \"properties\": {\n        \"dtype\": \"number\",\n        \"std\": 28747,\n        \"min\": 1067,\n        \"max\": 99876,\n        \"num_unique_values\": 500,\n        \"samples\": [\n          28989,\n          57795,\n          1606\n        ],\n        \"semantic_type\": \"\",\n        \"description\": \"\"\n      }\n    },\n    {\n      \"column\": \"Importance\",\n      \"properties\": {\n        \"dtype\": \"number\",\n        \"std\": 0,\n        \"min\": 1,\n        \"max\": 3,\n        \"num_unique_values\": 3,\n        \"samples\": [\n          3,\n          2,\n          1\n        ],\n        \"semantic_type\": \"\",\n        \"description\": \"\"\n      }\n    }\n  ]\n}"
            }
          },
          "metadata": {},
          "execution_count": 7
        }
      ]
    },
    {
      "cell_type": "markdown",
      "source": [
        "تم تحويل عمود \"Number of Beneficiaries\" إلى قيم رقمية.\n",
        "تم تحويل عمود \"Importance\" إلى قيم رقمية بناءً على التصنيف:\n",
        "عالية = 3\n",
        "متوسطة = 2\n",
        "منخفضة = 1"
      ],
      "metadata": {
        "id": "_6AiOx1ZXL_j"
      }
    },
    {
      "cell_type": "markdown",
      "source": [
        "حساب درجة الأولوية لنظام التوصيات"
      ],
      "metadata": {
        "id": "kUBt0QWSXbnM"
      }
    },
    {
      "cell_type": "code",
      "source": [
        "# Define a priority score formula\n",
        "def calculate_priority(row):\n",
        "    # Example formula: Adjust weights as needed\n",
        "    return (row['Importance'] * 0.4) + (row['Number of Beneficiaries'] * 0.6)\n",
        "\n",
        "# Apply the formula to calculate priority scores\n",
        "initiatives_data_cleaned['Priority Score'] = initiatives_data_cleaned.apply(calculate_priority, axis=1)\n",
        "\n",
        "# Sort initiatives by priority score in descending order\n",
        "initiatives_sorted = initiatives_data_cleaned.sort_values(by='Priority Score', ascending=False)\n",
        "\n",
        "# Display the top 5 initiatives based on priority score\n",
        "initiatives_sorted.head()\n"
      ],
      "metadata": {
        "colab": {
          "base_uri": "https://localhost:8080/",
          "height": 206
        },
        "id": "j-4DxXRzXhC_",
        "outputId": "b7a7d3b7-b888-4bc7-b4f3-1fb44635566c"
      },
      "execution_count": 8,
      "outputs": [
        {
          "output_type": "execute_result",
          "data": {
            "text/plain": [
              "    Initiative Name                             Goals   Target Groups  \\\n",
              "263  مبادرة رقم 264   تحقيق هدف تحسين في المجال رقم 6  المجتمع المدني   \n",
              "146  مبادرة رقم 147   تحقيق هدف تحسين في المجال رقم 1       المواطنين   \n",
              "216  مبادرة رقم 217  تحقيق هدف تحسين في المجال رقم 13  المجتمع المدني   \n",
              "470  مبادرة رقم 471   تحقيق هدف تحسين في المجال رقم 2          الطلاب   \n",
              "264  مبادرة رقم 265   تحقيق هدف تحسين في المجال رقم 1       المواطنين   \n",
              "\n",
              "                  Expected Impact  Number of Beneficiaries  Importance  \\\n",
              "263  تأثير إيجابي على 2201 مستفيد                    99876           3   \n",
              "146  تأثير إيجابي على 1534 مستفيد                    99810           2   \n",
              "216  تأثير إيجابي على 9631 مستفيد                    99472           3   \n",
              "470  تأثير إيجابي على 6157 مستفيد                    99180           3   \n",
              "264  تأثير إيجابي على 1295 مستفيد                    98117           2   \n",
              "\n",
              "     Priority Score  \n",
              "263         59926.8  \n",
              "146         59886.8  \n",
              "216         59684.4  \n",
              "470         59509.2  \n",
              "264         58871.0  "
            ],
            "text/html": [
              "\n",
              "  <div id=\"df-19a217e6-7c0b-4877-b6b1-464005f3fec9\" class=\"colab-df-container\">\n",
              "    <div>\n",
              "<style scoped>\n",
              "    .dataframe tbody tr th:only-of-type {\n",
              "        vertical-align: middle;\n",
              "    }\n",
              "\n",
              "    .dataframe tbody tr th {\n",
              "        vertical-align: top;\n",
              "    }\n",
              "\n",
              "    .dataframe thead th {\n",
              "        text-align: right;\n",
              "    }\n",
              "</style>\n",
              "<table border=\"1\" class=\"dataframe\">\n",
              "  <thead>\n",
              "    <tr style=\"text-align: right;\">\n",
              "      <th></th>\n",
              "      <th>Initiative Name</th>\n",
              "      <th>Goals</th>\n",
              "      <th>Target Groups</th>\n",
              "      <th>Expected Impact</th>\n",
              "      <th>Number of Beneficiaries</th>\n",
              "      <th>Importance</th>\n",
              "      <th>Priority Score</th>\n",
              "    </tr>\n",
              "  </thead>\n",
              "  <tbody>\n",
              "    <tr>\n",
              "      <th>263</th>\n",
              "      <td>مبادرة رقم 264</td>\n",
              "      <td>تحقيق هدف تحسين في المجال رقم 6</td>\n",
              "      <td>المجتمع المدني</td>\n",
              "      <td>تأثير إيجابي على 2201 مستفيد</td>\n",
              "      <td>99876</td>\n",
              "      <td>3</td>\n",
              "      <td>59926.8</td>\n",
              "    </tr>\n",
              "    <tr>\n",
              "      <th>146</th>\n",
              "      <td>مبادرة رقم 147</td>\n",
              "      <td>تحقيق هدف تحسين في المجال رقم 1</td>\n",
              "      <td>المواطنين</td>\n",
              "      <td>تأثير إيجابي على 1534 مستفيد</td>\n",
              "      <td>99810</td>\n",
              "      <td>2</td>\n",
              "      <td>59886.8</td>\n",
              "    </tr>\n",
              "    <tr>\n",
              "      <th>216</th>\n",
              "      <td>مبادرة رقم 217</td>\n",
              "      <td>تحقيق هدف تحسين في المجال رقم 13</td>\n",
              "      <td>المجتمع المدني</td>\n",
              "      <td>تأثير إيجابي على 9631 مستفيد</td>\n",
              "      <td>99472</td>\n",
              "      <td>3</td>\n",
              "      <td>59684.4</td>\n",
              "    </tr>\n",
              "    <tr>\n",
              "      <th>470</th>\n",
              "      <td>مبادرة رقم 471</td>\n",
              "      <td>تحقيق هدف تحسين في المجال رقم 2</td>\n",
              "      <td>الطلاب</td>\n",
              "      <td>تأثير إيجابي على 6157 مستفيد</td>\n",
              "      <td>99180</td>\n",
              "      <td>3</td>\n",
              "      <td>59509.2</td>\n",
              "    </tr>\n",
              "    <tr>\n",
              "      <th>264</th>\n",
              "      <td>مبادرة رقم 265</td>\n",
              "      <td>تحقيق هدف تحسين في المجال رقم 1</td>\n",
              "      <td>المواطنين</td>\n",
              "      <td>تأثير إيجابي على 1295 مستفيد</td>\n",
              "      <td>98117</td>\n",
              "      <td>2</td>\n",
              "      <td>58871.0</td>\n",
              "    </tr>\n",
              "  </tbody>\n",
              "</table>\n",
              "</div>\n",
              "    <div class=\"colab-df-buttons\">\n",
              "\n",
              "  <div class=\"colab-df-container\">\n",
              "    <button class=\"colab-df-convert\" onclick=\"convertToInteractive('df-19a217e6-7c0b-4877-b6b1-464005f3fec9')\"\n",
              "            title=\"Convert this dataframe to an interactive table.\"\n",
              "            style=\"display:none;\">\n",
              "\n",
              "  <svg xmlns=\"http://www.w3.org/2000/svg\" height=\"24px\" viewBox=\"0 -960 960 960\">\n",
              "    <path d=\"M120-120v-720h720v720H120Zm60-500h600v-160H180v160Zm220 220h160v-160H400v160Zm0 220h160v-160H400v160ZM180-400h160v-160H180v160Zm440 0h160v-160H620v160ZM180-180h160v-160H180v160Zm440 0h160v-160H620v160Z\"/>\n",
              "  </svg>\n",
              "    </button>\n",
              "\n",
              "  <style>\n",
              "    .colab-df-container {\n",
              "      display:flex;\n",
              "      gap: 12px;\n",
              "    }\n",
              "\n",
              "    .colab-df-convert {\n",
              "      background-color: #E8F0FE;\n",
              "      border: none;\n",
              "      border-radius: 50%;\n",
              "      cursor: pointer;\n",
              "      display: none;\n",
              "      fill: #1967D2;\n",
              "      height: 32px;\n",
              "      padding: 0 0 0 0;\n",
              "      width: 32px;\n",
              "    }\n",
              "\n",
              "    .colab-df-convert:hover {\n",
              "      background-color: #E2EBFA;\n",
              "      box-shadow: 0px 1px 2px rgba(60, 64, 67, 0.3), 0px 1px 3px 1px rgba(60, 64, 67, 0.15);\n",
              "      fill: #174EA6;\n",
              "    }\n",
              "\n",
              "    .colab-df-buttons div {\n",
              "      margin-bottom: 4px;\n",
              "    }\n",
              "\n",
              "    [theme=dark] .colab-df-convert {\n",
              "      background-color: #3B4455;\n",
              "      fill: #D2E3FC;\n",
              "    }\n",
              "\n",
              "    [theme=dark] .colab-df-convert:hover {\n",
              "      background-color: #434B5C;\n",
              "      box-shadow: 0px 1px 3px 1px rgba(0, 0, 0, 0.15);\n",
              "      filter: drop-shadow(0px 1px 2px rgba(0, 0, 0, 0.3));\n",
              "      fill: #FFFFFF;\n",
              "    }\n",
              "  </style>\n",
              "\n",
              "    <script>\n",
              "      const buttonEl =\n",
              "        document.querySelector('#df-19a217e6-7c0b-4877-b6b1-464005f3fec9 button.colab-df-convert');\n",
              "      buttonEl.style.display =\n",
              "        google.colab.kernel.accessAllowed ? 'block' : 'none';\n",
              "\n",
              "      async function convertToInteractive(key) {\n",
              "        const element = document.querySelector('#df-19a217e6-7c0b-4877-b6b1-464005f3fec9');\n",
              "        const dataTable =\n",
              "          await google.colab.kernel.invokeFunction('convertToInteractive',\n",
              "                                                    [key], {});\n",
              "        if (!dataTable) return;\n",
              "\n",
              "        const docLinkHtml = 'Like what you see? Visit the ' +\n",
              "          '<a target=\"_blank\" href=https://colab.research.google.com/notebooks/data_table.ipynb>data table notebook</a>'\n",
              "          + ' to learn more about interactive tables.';\n",
              "        element.innerHTML = '';\n",
              "        dataTable['output_type'] = 'display_data';\n",
              "        await google.colab.output.renderOutput(dataTable, element);\n",
              "        const docLink = document.createElement('div');\n",
              "        docLink.innerHTML = docLinkHtml;\n",
              "        element.appendChild(docLink);\n",
              "      }\n",
              "    </script>\n",
              "  </div>\n",
              "\n",
              "\n",
              "<div id=\"df-8b45151f-35f7-4710-807d-20c8eafa78b4\">\n",
              "  <button class=\"colab-df-quickchart\" onclick=\"quickchart('df-8b45151f-35f7-4710-807d-20c8eafa78b4')\"\n",
              "            title=\"Suggest charts\"\n",
              "            style=\"display:none;\">\n",
              "\n",
              "<svg xmlns=\"http://www.w3.org/2000/svg\" height=\"24px\"viewBox=\"0 0 24 24\"\n",
              "     width=\"24px\">\n",
              "    <g>\n",
              "        <path d=\"M19 3H5c-1.1 0-2 .9-2 2v14c0 1.1.9 2 2 2h14c1.1 0 2-.9 2-2V5c0-1.1-.9-2-2-2zM9 17H7v-7h2v7zm4 0h-2V7h2v10zm4 0h-2v-4h2v4z\"/>\n",
              "    </g>\n",
              "</svg>\n",
              "  </button>\n",
              "\n",
              "<style>\n",
              "  .colab-df-quickchart {\n",
              "      --bg-color: #E8F0FE;\n",
              "      --fill-color: #1967D2;\n",
              "      --hover-bg-color: #E2EBFA;\n",
              "      --hover-fill-color: #174EA6;\n",
              "      --disabled-fill-color: #AAA;\n",
              "      --disabled-bg-color: #DDD;\n",
              "  }\n",
              "\n",
              "  [theme=dark] .colab-df-quickchart {\n",
              "      --bg-color: #3B4455;\n",
              "      --fill-color: #D2E3FC;\n",
              "      --hover-bg-color: #434B5C;\n",
              "      --hover-fill-color: #FFFFFF;\n",
              "      --disabled-bg-color: #3B4455;\n",
              "      --disabled-fill-color: #666;\n",
              "  }\n",
              "\n",
              "  .colab-df-quickchart {\n",
              "    background-color: var(--bg-color);\n",
              "    border: none;\n",
              "    border-radius: 50%;\n",
              "    cursor: pointer;\n",
              "    display: none;\n",
              "    fill: var(--fill-color);\n",
              "    height: 32px;\n",
              "    padding: 0;\n",
              "    width: 32px;\n",
              "  }\n",
              "\n",
              "  .colab-df-quickchart:hover {\n",
              "    background-color: var(--hover-bg-color);\n",
              "    box-shadow: 0 1px 2px rgba(60, 64, 67, 0.3), 0 1px 3px 1px rgba(60, 64, 67, 0.15);\n",
              "    fill: var(--button-hover-fill-color);\n",
              "  }\n",
              "\n",
              "  .colab-df-quickchart-complete:disabled,\n",
              "  .colab-df-quickchart-complete:disabled:hover {\n",
              "    background-color: var(--disabled-bg-color);\n",
              "    fill: var(--disabled-fill-color);\n",
              "    box-shadow: none;\n",
              "  }\n",
              "\n",
              "  .colab-df-spinner {\n",
              "    border: 2px solid var(--fill-color);\n",
              "    border-color: transparent;\n",
              "    border-bottom-color: var(--fill-color);\n",
              "    animation:\n",
              "      spin 1s steps(1) infinite;\n",
              "  }\n",
              "\n",
              "  @keyframes spin {\n",
              "    0% {\n",
              "      border-color: transparent;\n",
              "      border-bottom-color: var(--fill-color);\n",
              "      border-left-color: var(--fill-color);\n",
              "    }\n",
              "    20% {\n",
              "      border-color: transparent;\n",
              "      border-left-color: var(--fill-color);\n",
              "      border-top-color: var(--fill-color);\n",
              "    }\n",
              "    30% {\n",
              "      border-color: transparent;\n",
              "      border-left-color: var(--fill-color);\n",
              "      border-top-color: var(--fill-color);\n",
              "      border-right-color: var(--fill-color);\n",
              "    }\n",
              "    40% {\n",
              "      border-color: transparent;\n",
              "      border-right-color: var(--fill-color);\n",
              "      border-top-color: var(--fill-color);\n",
              "    }\n",
              "    60% {\n",
              "      border-color: transparent;\n",
              "      border-right-color: var(--fill-color);\n",
              "    }\n",
              "    80% {\n",
              "      border-color: transparent;\n",
              "      border-right-color: var(--fill-color);\n",
              "      border-bottom-color: var(--fill-color);\n",
              "    }\n",
              "    90% {\n",
              "      border-color: transparent;\n",
              "      border-bottom-color: var(--fill-color);\n",
              "    }\n",
              "  }\n",
              "</style>\n",
              "\n",
              "  <script>\n",
              "    async function quickchart(key) {\n",
              "      const quickchartButtonEl =\n",
              "        document.querySelector('#' + key + ' button');\n",
              "      quickchartButtonEl.disabled = true;  // To prevent multiple clicks.\n",
              "      quickchartButtonEl.classList.add('colab-df-spinner');\n",
              "      try {\n",
              "        const charts = await google.colab.kernel.invokeFunction(\n",
              "            'suggestCharts', [key], {});\n",
              "      } catch (error) {\n",
              "        console.error('Error during call to suggestCharts:', error);\n",
              "      }\n",
              "      quickchartButtonEl.classList.remove('colab-df-spinner');\n",
              "      quickchartButtonEl.classList.add('colab-df-quickchart-complete');\n",
              "    }\n",
              "    (() => {\n",
              "      let quickchartButtonEl =\n",
              "        document.querySelector('#df-8b45151f-35f7-4710-807d-20c8eafa78b4 button');\n",
              "      quickchartButtonEl.style.display =\n",
              "        google.colab.kernel.accessAllowed ? 'block' : 'none';\n",
              "    })();\n",
              "  </script>\n",
              "</div>\n",
              "\n",
              "    </div>\n",
              "  </div>\n"
            ],
            "application/vnd.google.colaboratory.intrinsic+json": {
              "type": "dataframe",
              "variable_name": "initiatives_sorted",
              "summary": "{\n  \"name\": \"initiatives_sorted\",\n  \"rows\": 500,\n  \"fields\": [\n    {\n      \"column\": \"Initiative Name\",\n      \"properties\": {\n        \"dtype\": \"string\",\n        \"num_unique_values\": 500,\n        \"samples\": [\n          \"\\u0645\\u0628\\u0627\\u062f\\u0631\\u0629 \\u0631\\u0642\\u0645 263\",\n          \"\\u0645\\u0628\\u0627\\u062f\\u0631\\u0629 \\u0631\\u0642\\u0645 417\",\n          \"\\u0645\\u0628\\u0627\\u062f\\u0631\\u0629 \\u0631\\u0642\\u0645 66\"\n        ],\n        \"semantic_type\": \"\",\n        \"description\": \"\"\n      }\n    },\n    {\n      \"column\": \"Goals\",\n      \"properties\": {\n        \"dtype\": \"category\",\n        \"num_unique_values\": 20,\n        \"samples\": [\n          \"\\u062a\\u062d\\u0642\\u064a\\u0642 \\u0647\\u062f\\u0641 \\u062a\\u062d\\u0633\\u064a\\u0646 \\u0641\\u064a \\u0627\\u0644\\u0645\\u062c\\u0627\\u0644 \\u0631\\u0642\\u0645 6\",\n          \"\\u062a\\u062d\\u0642\\u064a\\u0642 \\u0647\\u062f\\u0641 \\u062a\\u062d\\u0633\\u064a\\u0646 \\u0641\\u064a \\u0627\\u0644\\u0645\\u062c\\u0627\\u0644 \\u0631\\u0642\\u0645 16\",\n          \"\\u062a\\u062d\\u0642\\u064a\\u0642 \\u0647\\u062f\\u0641 \\u062a\\u062d\\u0633\\u064a\\u0646 \\u0641\\u064a \\u0627\\u0644\\u0645\\u062c\\u0627\\u0644 \\u0631\\u0642\\u0645 15\"\n        ],\n        \"semantic_type\": \"\",\n        \"description\": \"\"\n      }\n    },\n    {\n      \"column\": \"Target Groups\",\n      \"properties\": {\n        \"dtype\": \"category\",\n        \"num_unique_values\": 4,\n        \"samples\": [\n          \"\\u0627\\u0644\\u0645\\u0648\\u0627\\u0637\\u0646\\u064a\\u0646\",\n          \"\\u0627\\u0644\\u0634\\u0631\\u0643\\u0627\\u062a\",\n          \"\\u0627\\u0644\\u0645\\u062c\\u062a\\u0645\\u0639 \\u0627\\u0644\\u0645\\u062f\\u0646\\u064a\"\n        ],\n        \"semantic_type\": \"\",\n        \"description\": \"\"\n      }\n    },\n    {\n      \"column\": \"Expected Impact\",\n      \"properties\": {\n        \"dtype\": \"string\",\n        \"num_unique_values\": 487,\n        \"samples\": [\n          \"\\u062a\\u0623\\u062b\\u064a\\u0631 \\u0625\\u064a\\u062c\\u0627\\u0628\\u064a \\u0639\\u0644\\u0649 4862 \\u0645\\u0633\\u062a\\u0641\\u064a\\u062f\",\n          \"\\u062a\\u0623\\u062b\\u064a\\u0631 \\u0625\\u064a\\u062c\\u0627\\u0628\\u064a \\u0639\\u0644\\u0649 3925 \\u0645\\u0633\\u062a\\u0641\\u064a\\u062f\",\n          \"\\u062a\\u0623\\u062b\\u064a\\u0631 \\u0625\\u064a\\u062c\\u0627\\u0628\\u064a \\u0639\\u0644\\u0649 3578 \\u0645\\u0633\\u062a\\u0641\\u064a\\u062f\"\n        ],\n        \"semantic_type\": \"\",\n        \"description\": \"\"\n      }\n    },\n    {\n      \"column\": \"Number of Beneficiaries\",\n      \"properties\": {\n        \"dtype\": \"number\",\n        \"std\": 28747,\n        \"min\": 1067,\n        \"max\": 99876,\n        \"num_unique_values\": 500,\n        \"samples\": [\n          24592,\n          84025,\n          22592\n        ],\n        \"semantic_type\": \"\",\n        \"description\": \"\"\n      }\n    },\n    {\n      \"column\": \"Importance\",\n      \"properties\": {\n        \"dtype\": \"number\",\n        \"std\": 0,\n        \"min\": 1,\n        \"max\": 3,\n        \"num_unique_values\": 3,\n        \"samples\": [\n          3,\n          2,\n          1\n        ],\n        \"semantic_type\": \"\",\n        \"description\": \"\"\n      }\n    },\n    {\n      \"column\": \"Priority Score\",\n      \"properties\": {\n        \"dtype\": \"number\",\n        \"std\": 17248.39308831043,\n        \"min\": 640.9999999999999,\n        \"max\": 59926.799999999996,\n        \"num_unique_values\": 500,\n        \"samples\": [\n          14756.4,\n          50416.2,\n          13555.599999999999\n        ],\n        \"semantic_type\": \"\",\n        \"description\": \"\"\n      }\n    }\n  ]\n}"
            }
          },
          "metadata": {},
          "execution_count": 8
        }
      ]
    },
    {
      "cell_type": "markdown",
      "source": [
        "تم حساب درجة الأولوية لكل مبادرة باستخدام الصيغة:\n",
        "\n",
        "Priority Score = (Importance * 0.4) + (Number of Beneficiaries * 0.6)\n",
        "\n"
      ],
      "metadata": {
        "id": "ql_zCATVXndV"
      }
    },
    {
      "cell_type": "markdown",
      "source": [
        "تحليل الأداء\n",
        "الخطوة التالية هي إضافة تحليل الأداء بناءً على عدد المستفيدين والأهمية."
      ],
      "metadata": {
        "id": "WoyLNg17X55z"
      }
    },
    {
      "cell_type": "code",
      "source": [
        "# Calculate performance metrics\n",
        "avg_beneficiaries = initiatives_data_cleaned['Number of Beneficiaries'].mean()\n",
        "avg_importance = initiatives_data_cleaned['Importance'].mean()\n",
        "\n",
        "# Generate a summary of performance metrics\n",
        "performance_summary = {\n",
        "    'Average Beneficiaries': avg_beneficiaries,\n",
        "    'Average Importance': avg_importance\n",
        "}\n",
        "\n",
        "# Display performance metrics\n",
        "performance_summary\n"
      ],
      "metadata": {
        "colab": {
          "base_uri": "https://localhost:8080/"
        },
        "id": "IY1QAVs3YHg7",
        "outputId": "e41c67ba-bb90-465e-898b-34da83e77199"
      },
      "execution_count": 9,
      "outputs": [
        {
          "output_type": "execute_result",
          "data": {
            "text/plain": [
              "{'Average Beneficiaries': 47341.566, 'Average Importance': 2.022}"
            ]
          },
          "metadata": {},
          "execution_count": 9
        }
      ]
    },
    {
      "cell_type": "markdown",
      "source": [
        "التعامل مع التكرار\n",
        "الخطوة التالية هي اكتشاف المبادرات المتشابهة لتجنب التكرار باستخدام تحليل النصوص للأوصاف والأهداف. ​​"
      ],
      "metadata": {
        "id": "czPXp67ZYS0S"
      }
    },
    {
      "cell_type": "code",
      "source": [
        "from sklearn.feature_extraction.text import TfidfVectorizer\n",
        "from sklearn.metrics.pairwise import cosine_similarity\n",
        "\n",
        "# Extract descriptions for duplicate detection\n",
        "descriptions = initiatives_data_cleaned['Goals']\n",
        "\n",
        "# Convert descriptions into TF-IDF features\n",
        "tfidf_vectorizer = TfidfVectorizer()\n",
        "tfidf_matrix = tfidf_vectorizer.fit_transform(descriptions)\n",
        "\n",
        "# Compute cosine similarity between descriptions\n",
        "similarity_matrix = cosine_similarity(tfidf_matrix)\n",
        "\n",
        "# Identify duplicates based on a similarity threshold\n",
        "threshold = 0.8\n",
        "duplicates = []\n",
        "for i in range(len(descriptions)):\n",
        "    for j in range(i + 1, len(descriptions)):\n",
        "        if similarity_matrix[i, j] > threshold:\n",
        "            duplicates.append((descriptions.iloc[i], descriptions.iloc[j]))\n",
        "\n",
        "# Display detected duplicates\n",
        "duplicates[:5]  # Show a sample of detected duplicates"
      ],
      "metadata": {
        "colab": {
          "base_uri": "https://localhost:8080/"
        },
        "id": "iMJJUN65YYUZ",
        "outputId": "6a68ef44-af2d-4d9c-948f-539752a104a6"
      },
      "execution_count": 10,
      "outputs": [
        {
          "output_type": "execute_result",
          "data": {
            "text/plain": [
              "[('تحقيق هدف تحسين في المجال رقم 16', 'تحقيق هدف تحسين في المجال رقم 16'),\n",
              " ('تحقيق هدف تحسين في المجال رقم 16', 'تحقيق هدف تحسين في المجال رقم 16'),\n",
              " ('تحقيق هدف تحسين في المجال رقم 16', 'تحقيق هدف تحسين في المجال رقم 16'),\n",
              " ('تحقيق هدف تحسين في المجال رقم 16', 'تحقيق هدف تحسين في المجال رقم 16'),\n",
              " ('تحقيق هدف تحسين في المجال رقم 16', 'تحقيق هدف تحسين في المجال رقم 16')]"
            ]
          },
          "metadata": {},
          "execution_count": 10
        }
      ]
    },
    {
      "cell_type": "markdown",
      "source": [
        "التعامل مع التكرار:\n",
        "\n",
        "نتائج تحليل التكرار:\n",
        "\n",
        "\n",
        "تم اكتشاف عدد من الأوصاف المتشابهة جدًا (مثل \"تحقيق هدف تحسين في المجال رقم 16\"). يشير ذلك إلى وجود بيانات مكررة أو متشابهة جدًا في الأهداف.\n",
        "\n",
        "\n",
        "الإجراء التالي:\n",
        "\n",
        "\n",
        "يمكن إزالة أو دمج المبادرات ذات الأوصاف المتكررة.\n",
        "توجيه نظام إدارة المبادرات للتعامل مع هذا التكرار لتجنب الجهود المكررة."
      ],
      "metadata": {
        "id": "y964HbWFZaZc"
      }
    },
    {
      "cell_type": "code",
      "source": [],
      "metadata": {
        "id": "eElbmAwNchLT"
      },
      "execution_count": 10,
      "outputs": []
    },
    {
      "cell_type": "code",
      "source": [],
      "metadata": {
        "id": "PUTUlVbichAW"
      },
      "execution_count": 10,
      "outputs": []
    },
    {
      "cell_type": "code",
      "source": [
        "from sklearn.model_selection import train_test_split\n",
        "from sklearn.ensemble import RandomForestRegressor\n",
        "\n",
        "# Select features and target\n",
        "X = initiatives_data_cleaned[['Importance', 'Number of Beneficiaries']]\n",
        "y = initiatives_data_cleaned['Priority Score']\n",
        "\n",
        "# Split the data into training and testing sets\n",
        "X_train, X_test, y_train, y_test = train_test_split(X, y, test_size=0.2, random_state=42)\n"
      ],
      "metadata": {
        "id": "mVuITtNoasqg"
      },
      "execution_count": 11,
      "outputs": []
    },
    {
      "cell_type": "code",
      "source": [
        "# Initialize and train the Random Forest model\n",
        "model = RandomForestRegressor(n_estimators=100, random_state=42)\n",
        "model.fit(X_train, y_train)\n",
        "\n",
        "# Evaluate the model\n",
        "print(f\"Training Accuracy: {model.score(X_train, y_train)}\")\n",
        "print(f\"Testing Accuracy: {model.score(X_test, y_test)}\")\n"
      ],
      "metadata": {
        "colab": {
          "base_uri": "https://localhost:8080/"
        },
        "id": "hnepXhRJawm5",
        "outputId": "4207ef05-3ff8-4552-c762-c33798c74bbe"
      },
      "execution_count": 12,
      "outputs": [
        {
          "output_type": "stream",
          "name": "stdout",
          "text": [
            "Training Accuracy: 0.9999955051018443\n",
            "Testing Accuracy: 0.9999700610625126\n"
          ]
        }
      ]
    },
    {
      "cell_type": "code",
      "source": [
        "# Example new initiative\n",
        "new_initiative = [[3, 50000]]  # [Importance, Number of Beneficiaries]\n",
        "predicted_priority = model.predict(new_initiative)\n",
        "print(f\"Predicted Priority Score: {predicted_priority[0]}\")"
      ],
      "metadata": {
        "colab": {
          "base_uri": "https://localhost:8080/"
        },
        "id": "yF2kFt8Za4cZ",
        "outputId": "06200ed2-c36c-4e19-8440-cdd35fe36bdf"
      },
      "execution_count": 13,
      "outputs": [
        {
          "output_type": "stream",
          "name": "stdout",
          "text": [
            "Predicted Priority Score: 29884.720000000005\n"
          ]
        },
        {
          "output_type": "stream",
          "name": "stderr",
          "text": [
            "/usr/local/lib/python3.10/dist-packages/sklearn/utils/validation.py:2739: UserWarning: X does not have valid feature names, but RandomForestRegressor was fitted with feature names\n",
            "  warnings.warn(\n"
          ]
        }
      ]
    },
    {
      "cell_type": "code",
      "source": [],
      "metadata": {
        "id": "cFKgR3vDbBhT"
      },
      "execution_count": 13,
      "outputs": []
    },
    {
      "cell_type": "code",
      "source": [
        "from sklearn.linear_model import LinearRegression\n",
        "\n",
        "# Select features and target\n",
        "X_performance = initiatives_data_cleaned[['Number of Beneficiaries', 'Importance']]\n",
        "y_performance = initiatives_data_cleaned['Priority Score']\n",
        "\n",
        "# Split data\n",
        "X_train_perf, X_test_perf, y_train_perf, y_test_perf = train_test_split(\n",
        "    X_performance, y_performance, test_size=0.2, random_state=42)\n",
        "\n",
        "# Train Linear Regression model\n",
        "performance_model = LinearRegression()\n",
        "performance_model.fit(X_train_perf, y_train_perf)\n",
        "\n",
        "# Evaluate the model\n",
        "print(f\"Performance Model Accuracy: {performance_model.score(X_test_perf, y_test_perf)}\")"
      ],
      "metadata": {
        "colab": {
          "base_uri": "https://localhost:8080/"
        },
        "id": "I8OWqy9JbBZ0",
        "outputId": "bc64335c-b946-4ef0-f4a5-2b3891282e21"
      },
      "execution_count": 14,
      "outputs": [
        {
          "output_type": "stream",
          "name": "stdout",
          "text": [
            "Performance Model Accuracy: 1.0\n"
          ]
        }
      ]
    },
    {
      "cell_type": "code",
      "source": [
        "# Predict future performance\n",
        "future_performance = [[40000, 3]]  # [Number of Beneficiaries, Importance]\n",
        "predicted_performance = performance_model.predict(future_performance)\n",
        "print(f\"Predicted Performance Score: {predicted_performance[0]}\")"
      ],
      "metadata": {
        "colab": {
          "base_uri": "https://localhost:8080/"
        },
        "id": "RPoQ7qTAbBQ2",
        "outputId": "0825a770-9581-4320-d4c0-9bee222674f8"
      },
      "execution_count": 15,
      "outputs": [
        {
          "output_type": "stream",
          "name": "stdout",
          "text": [
            "Predicted Performance Score: 24001.199999999997\n"
          ]
        },
        {
          "output_type": "stream",
          "name": "stderr",
          "text": [
            "/usr/local/lib/python3.10/dist-packages/sklearn/utils/validation.py:2739: UserWarning: X does not have valid feature names, but LinearRegression was fitted with feature names\n",
            "  warnings.warn(\n"
          ]
        }
      ]
    },
    {
      "cell_type": "code",
      "source": [
        "from sklearn.feature_extraction.text import TfidfVectorizer\n",
        "from sklearn.metrics.pairwise import cosine_similarity\n",
        "\n",
        "# TF-IDF Vectorization\n",
        "tfidf = TfidfVectorizer()\n",
        "tfidf_matrix = tfidf.fit_transform(initiatives_data_cleaned['Goals'])\n",
        "\n",
        "# Calculate cosine similarity\n",
        "similarity_matrix = cosine_similarity(tfidf_matrix)\n",
        "\n",
        "# Identify duplicates\n",
        "threshold = 0.8\n",
        "duplicates = []\n",
        "for i in range(len(initiatives_data_cleaned['Goals'])):\n",
        "    for j in range(i + 1, len(initiatives_data_cleaned['Goals'])):\n",
        "        if similarity_matrix[i, j] > threshold:\n",
        "            duplicates.append((initiatives_data_cleaned['Goals'].iloc[i], initiatives_data_cleaned['Goals'].iloc[j]))\n",
        "\n",
        "# Display duplicates\n",
        "duplicates[:5]"
      ],
      "metadata": {
        "colab": {
          "base_uri": "https://localhost:8080/"
        },
        "id": "NPUbs9jsbIY3",
        "outputId": "fe5d8063-b3a5-443c-b50a-743176d4f0f8"
      },
      "execution_count": 16,
      "outputs": [
        {
          "output_type": "execute_result",
          "data": {
            "text/plain": [
              "[('تحقيق هدف تحسين في المجال رقم 16', 'تحقيق هدف تحسين في المجال رقم 16'),\n",
              " ('تحقيق هدف تحسين في المجال رقم 16', 'تحقيق هدف تحسين في المجال رقم 16'),\n",
              " ('تحقيق هدف تحسين في المجال رقم 16', 'تحقيق هدف تحسين في المجال رقم 16'),\n",
              " ('تحقيق هدف تحسين في المجال رقم 16', 'تحقيق هدف تحسين في المجال رقم 16'),\n",
              " ('تحقيق هدف تحسين في المجال رقم 16', 'تحقيق هدف تحسين في المجال رقم 16')]"
            ]
          },
          "metadata": {},
          "execution_count": 16
        }
      ]
    },
    {
      "cell_type": "code",
      "source": [
        "import joblib\n",
        "\n",
        "# Save the recommendation model\n",
        "joblib.dump(model, 'recommendation_model.pkl')\n",
        "\n",
        "# Save the performance model\n",
        "joblib.dump(performance_model, 'performance_model.pkl')\n"
      ],
      "metadata": {
        "colab": {
          "base_uri": "https://localhost:8080/"
        },
        "id": "ZqgAh73ubIOx",
        "outputId": "b8e7f35c-ce12-4116-a5c5-da8deb279d73"
      },
      "execution_count": 17,
      "outputs": [
        {
          "output_type": "execute_result",
          "data": {
            "text/plain": [
              "['performance_model.pkl']"
            ]
          },
          "metadata": {},
          "execution_count": 17
        }
      ]
    },
    {
      "cell_type": "code",
      "source": [
        "# Load the model for future use\n",
        "loaded_model = joblib.load('recommendation_model.pkl')\n",
        "new_prediction = loaded_model.predict([[3, 60000]])\n",
        "print(f\"Loaded Model Prediction: {new_prediction[0]}\")\n"
      ],
      "metadata": {
        "colab": {
          "base_uri": "https://localhost:8080/"
        },
        "id": "k5s4ytHfbXQX",
        "outputId": "04a1e853-9883-4bad-aada-68b03a01dde1"
      },
      "execution_count": 18,
      "outputs": [
        {
          "output_type": "stream",
          "name": "stdout",
          "text": [
            "Loaded Model Prediction: 36077.18000000002\n"
          ]
        },
        {
          "output_type": "stream",
          "name": "stderr",
          "text": [
            "/usr/local/lib/python3.10/dist-packages/sklearn/utils/validation.py:2739: UserWarning: X does not have valid feature names, but RandomForestRegressor was fitted with feature names\n",
            "  warnings.warn(\n"
          ]
        }
      ]
    },
    {
      "cell_type": "markdown",
      "source": [
        "**Next Steps**\n",
        "\n",
        "Deploy Models: Deploy the trained models using Firebase Functions for real-time recommendations.\n",
        "\n",
        "Integrate with Website: Use APIs to connect the AI model with the website's backend and frontend.\n",
        "\n",
        "Enhance with Feedback: Use real-world user feedback to retrain and improve the model."
      ],
      "metadata": {
        "id": "39pXBcxAcJuw"
      }
    }
  ],
  "metadata": {
    "colab": {
      "provenance": [],
      "include_colab_link": true
    },
    "kernelspec": {
      "display_name": "Python 3",
      "name": "python3"
    }
  },
  "nbformat": 4,
  "nbformat_minor": 0
}